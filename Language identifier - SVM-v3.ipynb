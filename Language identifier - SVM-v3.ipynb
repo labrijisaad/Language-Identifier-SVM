{
 "cells": [
  {
   "cell_type": "markdown",
   "id": "1e98460d",
   "metadata": {},
   "source": [
    "## <p style=\"text-align:center\" color=\"red\"><span style=\"color:red\">Language identifier with Support Vector Machine</span></p>\n",
    "\n",
    "\n",
    "<table align=\"center\">\n",
    "  <td>\n",
    "    <a target=\"_blank\" href=\"https://colab.research.google.com/github/labrijisaad/Language-Identifier-SVM\"><img src=\"https://www.tensorflow.org/images/colab_logo_32px.png\" />Run in Google Colab</a>\n",
    "  </td>\n",
    "</table>\n",
    "\n",
    "- 🎯 In this notebook, I tried to write a script capable of identifying the language used in a text. \n",
    "- 🛠️ The supported languages are:  **`Swahili`**, **`Wolof`**, **`French`**, **`English`**, **`Arabic`** and **`Dyula`**.\n",
    "> The code in this notebook can easily be modified to add or modify the languages you want to detect: if you want to add other languages, just add a training dataset on the targeted languages, this dataset can be found by example on [HuggingFace Datesets](https://huggingface.co/datasets?sort=downloads).\n",
    "- 📫 Feel free to contact me if anything is wrong or if anything needs to be changed 😎!  **labrijisaad@gmail.com**"
   ]
  },
  {
   "cell_type": "markdown",
   "id": "c69cd7aa",
   "metadata": {},
   "source": [
    "### Importing the necessary libraries"
   ]
  },
  {
   "cell_type": "code",
   "execution_count": 1,
   "id": "77623b86",
   "metadata": {},
   "outputs": [],
   "source": [
    "%%capture\n",
    "!pip install datasets # to import the Hugging Face dataset (community dataset containing labeled phrases)"
   ]
  },
  {
   "cell_type": "code",
   "execution_count": 2,
   "id": "701a6eef",
   "metadata": {},
   "outputs": [],
   "source": [
    "%%capture\n",
    "\n",
    "import codecs\n",
    "import seaborn as sns \n",
    "import re\n",
    "import glob\n",
    "import unidecode\n",
    "import matplotlib.pyplot as plt\n",
    "import numpy as np\n",
    "\n",
    "import pandas as pd\n",
    "from tqdm import tqdm\n",
    "from sklearn import svm\n",
    "from datetime import datetime\n",
    "from sklearn.metrics import classification_report\n",
    "from sklearn.feature_extraction.text import TfidfVectorizer\n",
    "tqdm.pandas()\n",
    "\n",
    "from datasets import load_dataset"
   ]
  },
  {
   "cell_type": "markdown",
   "id": "ded3d7ec",
   "metadata": {},
   "source": [
    "### Importing the data"
   ]
  },
  {
   "cell_type": "code",
   "execution_count": 3,
   "id": "e06e4e2a",
   "metadata": {},
   "outputs": [
    {
     "name": "stderr",
     "output_type": "stream",
     "text": [
      "Using custom data configuration papluca--language-identification-088edc04c6573c74\n",
      "Reusing dataset csv (C:\\Users\\SAAD\\.cache\\huggingface\\datasets\\papluca___csv\\papluca--language-identification-088edc04c6573c74\\0.0.0\\652c3096f041ee27b04d2232d41f10547a8fecda3e284a79a0ec4053c916ef7a)\n"
     ]
    },
    {
     "data": {
      "application/vnd.jupyter.widget-view+json": {
       "model_id": "148ebfaa11f84fe080d9d5519ffc5625",
       "version_major": 2,
       "version_minor": 0
      },
      "text/plain": [
       "  0%|          | 0/3 [00:00<?, ?it/s]"
      ]
     },
     "metadata": {},
     "output_type": "display_data"
    },
    {
     "data": {
      "text/html": [
       "<div>\n",
       "<style scoped>\n",
       "    .dataframe tbody tr th:only-of-type {\n",
       "        vertical-align: middle;\n",
       "    }\n",
       "\n",
       "    .dataframe tbody tr th {\n",
       "        vertical-align: top;\n",
       "    }\n",
       "\n",
       "    .dataframe thead th {\n",
       "        text-align: right;\n",
       "    }\n",
       "</style>\n",
       "<table border=\"1\" class=\"dataframe\">\n",
       "  <thead>\n",
       "    <tr style=\"text-align: right;\">\n",
       "      <th></th>\n",
       "      <th>labels</th>\n",
       "      <th>text</th>\n",
       "    </tr>\n",
       "  </thead>\n",
       "  <tbody>\n",
       "    <tr>\n",
       "      <th>58155</th>\n",
       "      <td>ru</td>\n",
       "      <td>Боюсь , что так , сказал Мистер Картер серьезно .</td>\n",
       "    </tr>\n",
       "    <tr>\n",
       "      <th>46273</th>\n",
       "      <td>fr</td>\n",
       "      <td>Je vous ferais part de mon commentaire lorsque...</td>\n",
       "    </tr>\n",
       "    <tr>\n",
       "      <th>42982</th>\n",
       "      <td>ru</td>\n",
       "      <td>И еще в 1994 году правительство тюрьму в тюрьм...</td>\n",
       "    </tr>\n",
       "  </tbody>\n",
       "</table>\n",
       "</div>"
      ],
      "text/plain": [
       "      labels                                               text\n",
       "58155     ru  Боюсь , что так , сказал Мистер Картер серьезно .\n",
       "46273     fr  Je vous ferais part de mon commentaire lorsque...\n",
       "42982     ru  И еще в 1994 году правительство тюрьму в тюрьм..."
      ]
     },
     "execution_count": 3,
     "metadata": {},
     "output_type": "execute_result"
    }
   ],
   "source": [
    "dataset = load_dataset(\"papluca/language-identification\") # Dataset downloaded from huggingface\n",
    "df_languages = pd.DataFrame.from_dict(dataset['train'])\n",
    "df_languages.sample(3)"
   ]
  },
  {
   "cell_type": "code",
   "execution_count": 4,
   "id": "7bc20169",
   "metadata": {},
   "outputs": [
    {
     "data": {
      "text/html": [
       "<div>\n",
       "<style scoped>\n",
       "    .dataframe tbody tr th:only-of-type {\n",
       "        vertical-align: middle;\n",
       "    }\n",
       "\n",
       "    .dataframe tbody tr th {\n",
       "        vertical-align: top;\n",
       "    }\n",
       "\n",
       "    .dataframe thead th {\n",
       "        text-align: right;\n",
       "    }\n",
       "</style>\n",
       "<table border=\"1\" class=\"dataframe\">\n",
       "  <thead>\n",
       "    <tr style=\"text-align: right;\">\n",
       "      <th></th>\n",
       "      <th>sentence</th>\n",
       "      <th>lang</th>\n",
       "    </tr>\n",
       "  </thead>\n",
       "  <tbody>\n",
       "    <tr>\n",
       "      <th>59218</th>\n",
       "      <td>baadhi ya wanachama wa simba na wadau wa mpira...</td>\n",
       "      <td>swahili</td>\n",
       "    </tr>\n",
       "    <tr>\n",
       "      <th>47485</th>\n",
       "      <td>the Plateau of the Cumberland, and here the la...</td>\n",
       "      <td>english</td>\n",
       "    </tr>\n",
       "    <tr>\n",
       "      <th>25226</th>\n",
       "      <td>katika mchezo huo wa ligi kuu bara yanga ilish...</td>\n",
       "      <td>swahili</td>\n",
       "    </tr>\n",
       "  </tbody>\n",
       "</table>\n",
       "</div>"
      ],
      "text/plain": [
       "                                                sentence     lang\n",
       "59218  baadhi ya wanachama wa simba na wadau wa mpira...  swahili\n",
       "47485  the Plateau of the Cumberland, and here the la...  english\n",
       "25226  katika mchezo huo wa ligi kuu bara yanga ilish...  swahili"
      ]
     },
     "execution_count": 4,
     "metadata": {},
     "output_type": "execute_result"
    }
   ],
   "source": [
    "languages_file = pd.read_csv('corpus_id.csv') # Dataset that contains labelled sentences from :Wolof, Swahili, English, Arabic and French \n",
    "languages_file.sample(3)"
   ]
  },
  {
   "cell_type": "code",
   "execution_count": 5,
   "id": "c2116f18",
   "metadata": {},
   "outputs": [
    {
     "data": {
      "text/html": [
       "<div>\n",
       "<style scoped>\n",
       "    .dataframe tbody tr th:only-of-type {\n",
       "        vertical-align: middle;\n",
       "    }\n",
       "\n",
       "    .dataframe tbody tr th {\n",
       "        vertical-align: top;\n",
       "    }\n",
       "\n",
       "    .dataframe thead th {\n",
       "        text-align: right;\n",
       "    }\n",
       "</style>\n",
       "<table border=\"1\" class=\"dataframe\">\n",
       "  <thead>\n",
       "    <tr style=\"text-align: right;\">\n",
       "      <th></th>\n",
       "      <th>sentence</th>\n",
       "    </tr>\n",
       "  </thead>\n",
       "  <tbody>\n",
       "    <tr>\n",
       "      <th>40146</th>\n",
       "      <td>Ala ka kɔgɔji danfɛn barakamanw dan, ani jiraf...</td>\n",
       "    </tr>\n",
       "    <tr>\n",
       "      <th>54704</th>\n",
       "      <td>Ala ka o furancɛ wele ko «sankolo». Ayiwa, su ...</td>\n",
       "    </tr>\n",
       "    <tr>\n",
       "      <th>37492</th>\n",
       "      <td>Minw bɛ jija koɲuman na, ka tandori ni bonya n...</td>\n",
       "    </tr>\n",
       "  </tbody>\n",
       "</table>\n",
       "</div>"
      ],
      "text/plain": [
       "                                                sentence\n",
       "40146  Ala ka kɔgɔji danfɛn barakamanw dan, ani jiraf...\n",
       "54704  Ala ka o furancɛ wele ko «sankolo». Ayiwa, su ...\n",
       "37492  Minw bɛ jija koɲuman na, ka tandori ni bonya n..."
      ]
     },
     "execution_count": 5,
     "metadata": {},
     "output_type": "execute_result"
    }
   ],
   "source": [
    "dyula_list = [] \n",
    "with codecs.open('bible_dyula.txt', encoding='utf-8') as file:\n",
    "    for text in file:\n",
    "        dyula_list.append(text)\n",
    "\n",
    "df_dyula = pd.DataFrame (dyula_list, columns = ['sentence'])\n",
    "df_dyula.sample(3) # Dataset containing Dyula sentences extracted with selenium from the bible"
   ]
  },
  {
   "cell_type": "markdown",
   "id": "cf9ec406",
   "metadata": {},
   "source": [
    "### Data exploration analysis"
   ]
  },
  {
   "cell_type": "code",
   "execution_count": 6,
   "id": "5adce60b",
   "metadata": {},
   "outputs": [],
   "source": [
    "%%capture\n",
    "\n",
    "# Collecting Arabic phrases from huggingface dataset.\n",
    "df_ar = df_languages[df_languages.labels == \"ar\"]\n",
    "df_ar.rename(columns = {'labels':'lang', 'text':'sentence'}, inplace = True)\n",
    "df_ar[\"lang\"] = \"arabic\"\n",
    "\n",
    "# Taking a random sample of 14000 sentences (from the english Hugging face datset) to properly balance our training dataset.\n",
    "df_en = df_languages[df_languages.labels == \"en\"].sample(1000)\n",
    "df_en.rename(columns = {'labels':'lang', 'text':'sentence'}, inplace = True)\n",
    "df_en[\"lang\"] = \"english\"\n",
    "df_en"
   ]
  },
  {
   "cell_type": "code",
   "execution_count": 7,
   "id": "ceacbd70",
   "metadata": {},
   "outputs": [
    {
     "data": {
      "text/html": [
       "<div>\n",
       "<style scoped>\n",
       "    .dataframe tbody tr th:only-of-type {\n",
       "        vertical-align: middle;\n",
       "    }\n",
       "\n",
       "    .dataframe tbody tr th {\n",
       "        vertical-align: top;\n",
       "    }\n",
       "\n",
       "    .dataframe thead th {\n",
       "        text-align: right;\n",
       "    }\n",
       "</style>\n",
       "<table border=\"1\" class=\"dataframe\">\n",
       "  <thead>\n",
       "    <tr style=\"text-align: right;\">\n",
       "      <th></th>\n",
       "      <th>sentence</th>\n",
       "      <th>lang</th>\n",
       "    </tr>\n",
       "  </thead>\n",
       "  <tbody>\n",
       "    <tr>\n",
       "      <th>41416</th>\n",
       "      <td>Su kora, ka o dugu gbɛ. O kɛra lon naaninan ye.</td>\n",
       "      <td>dyula</td>\n",
       "    </tr>\n",
       "    <tr>\n",
       "      <th>8316</th>\n",
       "      <td>Kɛrɛkɛden kanbelen minw tun bɛ Yohabu kɔ, olug...</td>\n",
       "      <td>dyula</td>\n",
       "    </tr>\n",
       "    <tr>\n",
       "      <th>11749</th>\n",
       "      <td>O bɛɛ tagara ɲɔgɔn lajɛn Zeruzalɛmu, Asa ta ma...</td>\n",
       "      <td>dyula</td>\n",
       "    </tr>\n",
       "    <tr>\n",
       "      <th>40008</th>\n",
       "      <td>Ne ko: aw minw b’a fɛ ka sariya* sira tagama, ...</td>\n",
       "      <td>dyula</td>\n",
       "    </tr>\n",
       "    <tr>\n",
       "      <th>47181</th>\n",
       "      <td>Dugukolo bɛganw bɛɛ, ani kɔnɔw bɛɛ, ani fɛnɲan...</td>\n",
       "      <td>dyula</td>\n",
       "    </tr>\n",
       "    <tr>\n",
       "      <th>...</th>\n",
       "      <td>...</td>\n",
       "      <td>...</td>\n",
       "    </tr>\n",
       "    <tr>\n",
       "      <th>37958</th>\n",
       "      <td>Ala ka baraka don o ra, ko o ye woro, ka caya ...</td>\n",
       "      <td>dyula</td>\n",
       "    </tr>\n",
       "    <tr>\n",
       "      <th>51673</th>\n",
       "      <td>A ka kelen sigi terefɛwagati kunna, ka kelen s...</td>\n",
       "      <td>dyula</td>\n",
       "    </tr>\n",
       "    <tr>\n",
       "      <th>22119</th>\n",
       "      <td></td>\n",
       "      <td>dyula</td>\n",
       "    </tr>\n",
       "    <tr>\n",
       "      <th>9478</th>\n",
       "      <td>Ala ka o furancɛ kɛ. Ji minw bɛ san fɛ, ani ji...</td>\n",
       "      <td>dyula</td>\n",
       "    </tr>\n",
       "    <tr>\n",
       "      <th>12375</th>\n",
       "      <td>Su kora, ka o dugu gbɛ. O kɛra lon naaninan ye.</td>\n",
       "      <td>dyula</td>\n",
       "    </tr>\n",
       "  </tbody>\n",
       "</table>\n",
       "<p>14000 rows × 2 columns</p>\n",
       "</div>"
      ],
      "text/plain": [
       "                                                sentence   lang\n",
       "41416   Su kora, ka o dugu gbɛ. O kɛra lon naaninan ye.   dyula\n",
       "8316   Kɛrɛkɛden kanbelen minw tun bɛ Yohabu kɔ, olug...  dyula\n",
       "11749  O bɛɛ tagara ɲɔgɔn lajɛn Zeruzalɛmu, Asa ta ma...  dyula\n",
       "40008  Ne ko: aw minw b’a fɛ ka sariya* sira tagama, ...  dyula\n",
       "47181  Dugukolo bɛganw bɛɛ, ani kɔnɔw bɛɛ, ani fɛnɲan...  dyula\n",
       "...                                                  ...    ...\n",
       "37958  Ala ka baraka don o ra, ko o ye woro, ka caya ...  dyula\n",
       "51673  A ka kelen sigi terefɛwagati kunna, ka kelen s...  dyula\n",
       "22119                                                     dyula\n",
       "9478   Ala ka o furancɛ kɛ. Ji minw bɛ san fɛ, ani ji...  dyula\n",
       "12375   Su kora, ka o dugu gbɛ. O kɛra lon naaninan ye.   dyula\n",
       "\n",
       "[14000 rows x 2 columns]"
      ]
     },
     "execution_count": 7,
     "metadata": {},
     "output_type": "execute_result"
    }
   ],
   "source": [
    "df_dyula[\"sentence\"] = df_dyula[\"sentence\"].str.replace(\"\\n\",\" \") \n",
    "df_dyula[\"sentence\"] = df_dyula[\"sentence\"].str.replace(\"\\t\",\" \") \n",
    "df_dyula[\"sentence\"] = df_dyula[\"sentence\"].str.replace(\"\\r\",\" \") \n",
    "df_dyula['lang'] = 'dyula'\n",
    "\n",
    "# Taking a random sample of 14000 sentences (from the Dyula datset) to properly balance our training dataset.\n",
    "df_dyula = df_dyula.sample(n = 14000) \n",
    "df_dyula"
   ]
  },
  {
   "cell_type": "code",
   "execution_count": 8,
   "id": "21af3eea",
   "metadata": {},
   "outputs": [
    {
     "data": {
      "text/html": [
       "<div>\n",
       "<style scoped>\n",
       "    .dataframe tbody tr th:only-of-type {\n",
       "        vertical-align: middle;\n",
       "    }\n",
       "\n",
       "    .dataframe tbody tr th {\n",
       "        vertical-align: top;\n",
       "    }\n",
       "\n",
       "    .dataframe thead th {\n",
       "        text-align: right;\n",
       "    }\n",
       "</style>\n",
       "<table border=\"1\" class=\"dataframe\">\n",
       "  <thead>\n",
       "    <tr style=\"text-align: right;\">\n",
       "      <th></th>\n",
       "      <th>sentence</th>\n",
       "      <th>lang</th>\n",
       "    </tr>\n",
       "  </thead>\n",
       "  <tbody>\n",
       "    <tr>\n",
       "      <th>0</th>\n",
       "      <td>mu ne dina fi jaar buy dellu</td>\n",
       "      <td>wolof</td>\n",
       "    </tr>\n",
       "    <tr>\n",
       "      <th>1</th>\n",
       "      <td>mimi ningekuwa naipenda yanga si ningekuwa nac...</td>\n",
       "      <td>swahili</td>\n",
       "    </tr>\n",
       "    <tr>\n",
       "      <th>2</th>\n",
       "      <td>Pencil skirts are nice until you have to go up...</td>\n",
       "      <td>english</td>\n",
       "    </tr>\n",
       "    <tr>\n",
       "      <th>3</th>\n",
       "      <td>#Kingsport , TN #Transportation #Job: Rolloff ...</td>\n",
       "      <td>english</td>\n",
       "    </tr>\n",
       "    <tr>\n",
       "      <th>4</th>\n",
       "      <td>daan sa doole</td>\n",
       "      <td>wolof</td>\n",
       "    </tr>\n",
       "    <tr>\n",
       "      <th>...</th>\n",
       "      <td>...</td>\n",
       "      <td>...</td>\n",
       "    </tr>\n",
       "    <tr>\n",
       "      <th>2023</th>\n",
       "      <td>just ok. inner plastic curtain keeps falling o...</td>\n",
       "      <td>english</td>\n",
       "    </tr>\n",
       "    <tr>\n",
       "      <th>49318</th>\n",
       "      <td>Great for daily devotions!</td>\n",
       "      <td>english</td>\n",
       "    </tr>\n",
       "    <tr>\n",
       "      <th>46698</th>\n",
       "      <td>This is not the Jason shampoo with MSM. I look...</td>\n",
       "      <td>english</td>\n",
       "    </tr>\n",
       "    <tr>\n",
       "      <th>33705</th>\n",
       "      <td>It charges extremely slowly for some reason, a...</td>\n",
       "      <td>english</td>\n",
       "    </tr>\n",
       "    <tr>\n",
       "      <th>42648</th>\n",
       "      <td>Came quickly and are working great! I thought ...</td>\n",
       "      <td>english</td>\n",
       "    </tr>\n",
       "  </tbody>\n",
       "</table>\n",
       "<p>83195 rows × 2 columns</p>\n",
       "</div>"
      ],
      "text/plain": [
       "                                                sentence     lang\n",
       "0                           mu ne dina fi jaar buy dellu    wolof\n",
       "1      mimi ningekuwa naipenda yanga si ningekuwa nac...  swahili\n",
       "2      Pencil skirts are nice until you have to go up...  english\n",
       "3      #Kingsport , TN #Transportation #Job: Rolloff ...  english\n",
       "4                                          daan sa doole    wolof\n",
       "...                                                  ...      ...\n",
       "2023   just ok. inner plastic curtain keeps falling o...  english\n",
       "49318                         Great for daily devotions!  english\n",
       "46698  This is not the Jason shampoo with MSM. I look...  english\n",
       "33705  It charges extremely slowly for some reason, a...  english\n",
       "42648  Came quickly and are working great! I thought ...  english\n",
       "\n",
       "[83195 rows x 2 columns]"
      ]
     },
     "execution_count": 8,
     "metadata": {},
     "output_type": "execute_result"
    }
   ],
   "source": [
    "languages_file = pd.concat([languages_file, df_dyula, df_ar, df_en]) \n",
    "languages_file"
   ]
  },
  {
   "cell_type": "markdown",
   "id": "e0cbb1f9",
   "metadata": {},
   "source": [
    "- **83195**  is the number of records in our dataset.\n",
    "- **2** is the number of columns."
   ]
  },
  {
   "cell_type": "code",
   "execution_count": 9,
   "id": "607af6b8",
   "metadata": {},
   "outputs": [
    {
     "name": "stdout",
     "output_type": "stream",
     "text": [
      "<class 'pandas.core.frame.DataFrame'>\n",
      "Int64Index: 83195 entries, 0 to 42648\n",
      "Data columns (total 2 columns):\n",
      " #   Column    Non-Null Count  Dtype \n",
      "---  ------    --------------  ----- \n",
      " 0   sentence  83195 non-null  object\n",
      " 1   lang      83195 non-null  object\n",
      "dtypes: object(2)\n",
      "memory usage: 1.9+ MB\n"
     ]
    }
   ],
   "source": [
    "languages_file.info()"
   ]
  },
  {
   "cell_type": "code",
   "execution_count": 10,
   "id": "b3ae41b3",
   "metadata": {},
   "outputs": [
    {
     "data": {
      "text/plain": [
       "sentence    0\n",
       "lang        0\n",
       "dtype: int64"
      ]
     },
     "execution_count": 10,
     "metadata": {},
     "output_type": "execute_result"
    }
   ],
   "source": [
    "languages_file.isna().sum()"
   ]
  },
  {
   "cell_type": "markdown",
   "id": "e6943f72",
   "metadata": {},
   "source": [
    "- Good news so far, there are no missing values in our dataframe."
   ]
  },
  {
   "cell_type": "code",
   "execution_count": 11,
   "id": "8ca69a77",
   "metadata": {},
   "outputs": [],
   "source": [
    "# Dealing with capitalized values :\n",
    "languages_file['sentence'] = languages_file['sentence'].str.lower()\n",
    "\n",
    "# Dealing with trailing spaces :\n",
    "languages_file['sentence'] = languages_file['sentence'].str.strip()"
   ]
  },
  {
   "cell_type": "code",
   "execution_count": 12,
   "id": "e9807040",
   "metadata": {},
   "outputs": [],
   "source": [
    "# Dealing with empty sentences :\n",
    "languages_file['sentence'].replace('', np.nan, inplace=True)\n",
    "languages_file.dropna(subset=['sentence'], inplace=True)\n",
    "\n",
    "# Dealing with the ponctuation :\n",
    "def remove_ponctuation(text):\n",
    "    return re.sub(r'[^\\w\\s]', '', text)\n",
    "\n",
    "languages_file['sentence'] = languages_file['sentence'].apply(lambda x: remove_ponctuation(x))"
   ]
  },
  {
   "cell_type": "markdown",
   "id": "37eda943",
   "metadata": {},
   "source": [
    "> **`Here is the dataset that we are going to use to train our language identification model:`**"
   ]
  },
  {
   "cell_type": "code",
   "execution_count": 13,
   "id": "610e8e41",
   "metadata": {},
   "outputs": [
    {
     "data": {
      "text/html": [
       "<div>\n",
       "<style scoped>\n",
       "    .dataframe tbody tr th:only-of-type {\n",
       "        vertical-align: middle;\n",
       "    }\n",
       "\n",
       "    .dataframe tbody tr th {\n",
       "        vertical-align: top;\n",
       "    }\n",
       "\n",
       "    .dataframe thead th {\n",
       "        text-align: right;\n",
       "    }\n",
       "</style>\n",
       "<table border=\"1\" class=\"dataframe\">\n",
       "  <thead>\n",
       "    <tr style=\"text-align: right;\">\n",
       "      <th></th>\n",
       "      <th>sentence</th>\n",
       "      <th>lang</th>\n",
       "    </tr>\n",
       "  </thead>\n",
       "  <tbody>\n",
       "    <tr>\n",
       "      <th>0</th>\n",
       "      <td>mu ne dina fi jaar buy dellu</td>\n",
       "      <td>wolof</td>\n",
       "    </tr>\n",
       "    <tr>\n",
       "      <th>1</th>\n",
       "      <td>mimi ningekuwa naipenda yanga si ningekuwa nac...</td>\n",
       "      <td>swahili</td>\n",
       "    </tr>\n",
       "    <tr>\n",
       "      <th>2</th>\n",
       "      <td>pencil skirts are nice until you have to go up...</td>\n",
       "      <td>english</td>\n",
       "    </tr>\n",
       "    <tr>\n",
       "      <th>3</th>\n",
       "      <td>kingsport  tn transportation job rolloff drive...</td>\n",
       "      <td>english</td>\n",
       "    </tr>\n",
       "    <tr>\n",
       "      <th>4</th>\n",
       "      <td>daan sa doole</td>\n",
       "      <td>wolof</td>\n",
       "    </tr>\n",
       "    <tr>\n",
       "      <th>...</th>\n",
       "      <td>...</td>\n",
       "      <td>...</td>\n",
       "    </tr>\n",
       "    <tr>\n",
       "      <th>2023</th>\n",
       "      <td>just ok inner plastic curtain keeps falling of...</td>\n",
       "      <td>english</td>\n",
       "    </tr>\n",
       "    <tr>\n",
       "      <th>49318</th>\n",
       "      <td>great for daily devotions</td>\n",
       "      <td>english</td>\n",
       "    </tr>\n",
       "    <tr>\n",
       "      <th>46698</th>\n",
       "      <td>this is not the jason shampoo with msm i looke...</td>\n",
       "      <td>english</td>\n",
       "    </tr>\n",
       "    <tr>\n",
       "      <th>33705</th>\n",
       "      <td>it charges extremely slowly for some reason al...</td>\n",
       "      <td>english</td>\n",
       "    </tr>\n",
       "    <tr>\n",
       "      <th>42648</th>\n",
       "      <td>came quickly and are working great i thought i...</td>\n",
       "      <td>english</td>\n",
       "    </tr>\n",
       "  </tbody>\n",
       "</table>\n",
       "<p>83124 rows × 2 columns</p>\n",
       "</div>"
      ],
      "text/plain": [
       "                                                sentence     lang\n",
       "0                           mu ne dina fi jaar buy dellu    wolof\n",
       "1      mimi ningekuwa naipenda yanga si ningekuwa nac...  swahili\n",
       "2      pencil skirts are nice until you have to go up...  english\n",
       "3      kingsport  tn transportation job rolloff drive...  english\n",
       "4                                          daan sa doole    wolof\n",
       "...                                                  ...      ...\n",
       "2023   just ok inner plastic curtain keeps falling of...  english\n",
       "49318                          great for daily devotions  english\n",
       "46698  this is not the jason shampoo with msm i looke...  english\n",
       "33705  it charges extremely slowly for some reason al...  english\n",
       "42648  came quickly and are working great i thought i...  english\n",
       "\n",
       "[83124 rows x 2 columns]"
      ]
     },
     "execution_count": 13,
     "metadata": {},
     "output_type": "execute_result"
    }
   ],
   "source": [
    "languages_file"
   ]
  },
  {
   "cell_type": "code",
   "execution_count": 14,
   "id": "21689ddb",
   "metadata": {},
   "outputs": [
    {
     "data": {
      "image/png": "[encoded data removed]",
      "text/plain": [
       "<Figure size 432x288 with 1 Axes>"
      ]
     },
     "metadata": {
      "needs_background": "light"
     },
     "output_type": "display_data"
    }
   ],
   "source": [
    "# Visualize the distribution of the languages column :\n",
    "sns.histplot(languages_file['lang'])\n",
    "plt.title('Distribution of languages')\n",
    "plt.show()"
   ]
  },
  {
   "cell_type": "code",
   "execution_count": 15,
   "id": "4e2864ad",
   "metadata": {
    "scrolled": true
   },
   "outputs": [
    {
     "data": {
      "text/html": [
       "<div>\n",
       "<style scoped>\n",
       "    .dataframe tbody tr th:only-of-type {\n",
       "        vertical-align: middle;\n",
       "    }\n",
       "\n",
       "    .dataframe tbody tr th {\n",
       "        vertical-align: top;\n",
       "    }\n",
       "\n",
       "    .dataframe thead th {\n",
       "        text-align: right;\n",
       "    }\n",
       "</style>\n",
       "<table border=\"1\" class=\"dataframe\">\n",
       "  <thead>\n",
       "    <tr style=\"text-align: right;\">\n",
       "      <th></th>\n",
       "      <th>sentence</th>\n",
       "    </tr>\n",
       "    <tr>\n",
       "      <th>lang</th>\n",
       "      <th></th>\n",
       "    </tr>\n",
       "  </thead>\n",
       "  <tbody>\n",
       "    <tr>\n",
       "      <th>arabic</th>\n",
       "      <td>12700</td>\n",
       "    </tr>\n",
       "    <tr>\n",
       "      <th>dyula</th>\n",
       "      <td>13929</td>\n",
       "    </tr>\n",
       "    <tr>\n",
       "      <th>english</th>\n",
       "      <td>14974</td>\n",
       "    </tr>\n",
       "    <tr>\n",
       "      <th>french</th>\n",
       "      <td>13928</td>\n",
       "    </tr>\n",
       "    <tr>\n",
       "      <th>swahili</th>\n",
       "      <td>13569</td>\n",
       "    </tr>\n",
       "    <tr>\n",
       "      <th>wolof</th>\n",
       "      <td>14024</td>\n",
       "    </tr>\n",
       "  </tbody>\n",
       "</table>\n",
       "</div>"
      ],
      "text/plain": [
       "         sentence\n",
       "lang             \n",
       "arabic      12700\n",
       "dyula       13929\n",
       "english     14974\n",
       "french      13928\n",
       "swahili     13569\n",
       "wolof       14024"
      ]
     },
     "execution_count": 15,
     "metadata": {},
     "output_type": "execute_result"
    }
   ],
   "source": [
    "languages_file.groupby('lang').count()"
   ]
  },
  {
   "cell_type": "markdown",
   "id": "a254c886",
   "metadata": {},
   "source": [
    "> **`Our dataset is quite balanced and has enough data, normally we expect good results after training the model`**"
   ]
  },
  {
   "cell_type": "code",
   "execution_count": 16,
   "id": "7c325b4d",
   "metadata": {},
   "outputs": [
    {
     "data": {
      "text/html": [
       "<div>\n",
       "<style scoped>\n",
       "    .dataframe tbody tr th:only-of-type {\n",
       "        vertical-align: middle;\n",
       "    }\n",
       "\n",
       "    .dataframe tbody tr th {\n",
       "        vertical-align: top;\n",
       "    }\n",
       "\n",
       "    .dataframe thead th {\n",
       "        text-align: right;\n",
       "    }\n",
       "</style>\n",
       "<table border=\"1\" class=\"dataframe\">\n",
       "  <thead>\n",
       "    <tr style=\"text-align: right;\">\n",
       "      <th></th>\n",
       "      <th>sentence</th>\n",
       "      <th>lang</th>\n",
       "    </tr>\n",
       "  </thead>\n",
       "  <tbody>\n",
       "    <tr>\n",
       "      <th>0</th>\n",
       "      <td>mu ne dina fi jaar buy dellu</td>\n",
       "      <td>wolof</td>\n",
       "    </tr>\n",
       "    <tr>\n",
       "      <th>1</th>\n",
       "      <td>mimi ningekuwa naipenda yanga si ningekuwa nac...</td>\n",
       "      <td>swahili</td>\n",
       "    </tr>\n",
       "    <tr>\n",
       "      <th>2</th>\n",
       "      <td>pencil skirts are nice until you have to go up...</td>\n",
       "      <td>english</td>\n",
       "    </tr>\n",
       "    <tr>\n",
       "      <th>3</th>\n",
       "      <td>kingsport  tn transportation job rolloff drive...</td>\n",
       "      <td>english</td>\n",
       "    </tr>\n",
       "    <tr>\n",
       "      <th>4</th>\n",
       "      <td>daan sa doole</td>\n",
       "      <td>wolof</td>\n",
       "    </tr>\n",
       "    <tr>\n",
       "      <th>...</th>\n",
       "      <td>...</td>\n",
       "      <td>...</td>\n",
       "    </tr>\n",
       "    <tr>\n",
       "      <th>2023</th>\n",
       "      <td>just ok inner plastic curtain keeps falling of...</td>\n",
       "      <td>english</td>\n",
       "    </tr>\n",
       "    <tr>\n",
       "      <th>49318</th>\n",
       "      <td>great for daily devotions</td>\n",
       "      <td>english</td>\n",
       "    </tr>\n",
       "    <tr>\n",
       "      <th>46698</th>\n",
       "      <td>this is not the jason shampoo with msm i looke...</td>\n",
       "      <td>english</td>\n",
       "    </tr>\n",
       "    <tr>\n",
       "      <th>33705</th>\n",
       "      <td>it charges extremely slowly for some reason al...</td>\n",
       "      <td>english</td>\n",
       "    </tr>\n",
       "    <tr>\n",
       "      <th>42648</th>\n",
       "      <td>came quickly and are working great i thought i...</td>\n",
       "      <td>english</td>\n",
       "    </tr>\n",
       "  </tbody>\n",
       "</table>\n",
       "<p>83124 rows × 2 columns</p>\n",
       "</div>"
      ],
      "text/plain": [
       "                                                sentence     lang\n",
       "0                           mu ne dina fi jaar buy dellu    wolof\n",
       "1      mimi ningekuwa naipenda yanga si ningekuwa nac...  swahili\n",
       "2      pencil skirts are nice until you have to go up...  english\n",
       "3      kingsport  tn transportation job rolloff drive...  english\n",
       "4                                          daan sa doole    wolof\n",
       "...                                                  ...      ...\n",
       "2023   just ok inner plastic curtain keeps falling of...  english\n",
       "49318                          great for daily devotions  english\n",
       "46698  this is not the jason shampoo with msm i looke...  english\n",
       "33705  it charges extremely slowly for some reason al...  english\n",
       "42648  came quickly and are working great i thought i...  english\n",
       "\n",
       "[83124 rows x 2 columns]"
      ]
     },
     "execution_count": 16,
     "metadata": {},
     "output_type": "execute_result"
    }
   ],
   "source": [
    "languages_file"
   ]
  },
  {
   "cell_type": "markdown",
   "id": "60552aea",
   "metadata": {},
   "source": [
    "- The lang column is divided into 5 languages: **``swahili``**, **``wolof``**, **``french``**, **``english``**, **``arabic``** and **``dyula``**."
   ]
  },
  {
   "cell_type": "code",
   "execution_count": 17,
   "id": "be661657",
   "metadata": {},
   "outputs": [],
   "source": [
    "# WORD-COUNT\n",
    "dataframe = languages_file.copy(deep=True)\n",
    "dataframe['sentence']= dataframe['sentence'].apply(lambda x: len(str(x).split()))\n",
    "\n",
    "dict_languages_wordcount = {}\n",
    "languages_names = list(dataframe.lang.unique())\n",
    "\n",
    "for language in languages_names:\n",
    "    dict_languages_wordcount[language] = dataframe[dataframe['lang'].str.contains(language)].sentence.mean()"
   ]
  },
  {
   "cell_type": "code",
   "execution_count": 18,
   "id": "970aaa03",
   "metadata": {},
   "outputs": [
    {
     "name": "stdout",
     "output_type": "stream",
     "text": [
      "wolof  :  6.573302909298346\n",
      "swahili  :  25.032426855332005\n",
      "english  :  10.996260184319487\n",
      "arabic  :  12.337322834645668\n",
      "french  :  13.728388856978748\n",
      "dyula  :  27.564074951539954\n"
     ]
    }
   ],
   "source": [
    "for key, value in dict_languages_wordcount.items():\n",
    "    print(key, ' : ', value)"
   ]
  },
  {
   "cell_type": "code",
   "execution_count": 19,
   "id": "580f13e1",
   "metadata": {
    "scrolled": true
   },
   "outputs": [
    {
     "data": {
      "image/png": "[encoded data removed]",
      "text/plain": [
       "<Figure size 1440x288 with 6 Axes>"
      ]
     },
     "metadata": {
      "needs_background": "light"
     },
     "output_type": "display_data"
    }
   ],
   "source": [
    "# PLOTTING WORD-COUNT\n",
    "fig,(ax1, ax2, ax3, ax4, ax5, ax6)=plt.subplots(1,6,figsize=(20,4))\n",
    "\n",
    "swahili_words = dataframe[dataframe['lang'].str.contains(\"swahili\")].sentence\n",
    "ax1.hist(swahili_words,color='green')\n",
    "ax1.set_title('swahili sentences')\n",
    "\n",
    "\n",
    "wolof_words = dataframe[dataframe['lang'].str.contains(\"wolof\")].sentence\n",
    "ax2.hist(wolof_words,color='blue')\n",
    "ax2.set_title('wolof sentences')\n",
    "\n",
    "\n",
    "french_words = dataframe[dataframe['lang'].str.contains(\"french\")].sentence\n",
    "ax3.hist(french_words,color='yellow')\n",
    "ax3.set_title('french sentences')\n",
    "\n",
    "\n",
    "english_words = dataframe[dataframe['lang'].str.contains(\"english\")].sentence\n",
    "ax4.hist(english_words,color='purple')\n",
    "ax4.set_title('english sentences')\n",
    "\n",
    "\n",
    "shikomori_words = dataframe[dataframe['lang'].str.contains(\"arabic\")].sentence\n",
    "ax5.hist(shikomori_words,color='red')\n",
    "ax5.set_title('arabic sentences')\n",
    "\n",
    "shikomori_words = dataframe[dataframe['lang'].str.contains(\"dyula\")].sentence\n",
    "ax6.hist(shikomori_words,color='gray')\n",
    "ax6.set_title('dyula sentences')\n",
    "\n",
    "\n",
    "fig.suptitle('word per sentence')\n",
    "plt.show()"
   ]
  },
  {
   "cell_type": "markdown",
   "id": "9e9b00a8",
   "metadata": {},
   "source": [
    "- Below we can see a quick comparison of the average number of words in a sentence of each language in our dataset.\n",
    "- In our case, the most wordy language is **``dyula``** and the less one is **``wolof``**"
   ]
  },
  {
   "cell_type": "markdown",
   "id": "67722520",
   "metadata": {},
   "source": [
    "### Model training: **`SVM classifier with TfidfVectorizer`**"
   ]
  },
  {
   "cell_type": "markdown",
   "id": "a4b28ced",
   "metadata": {},
   "source": [
    "#### Importing libraries needed for model training"
   ]
  },
  {
   "cell_type": "code",
   "execution_count": 20,
   "id": "f88db7c2",
   "metadata": {},
   "outputs": [],
   "source": [
    "import time\n",
    "from sklearn import svm\n",
    "from sklearn.model_selection import train_test_split\n",
    "from sklearn.metrics import classification_report\n",
    "from sklearn.feature_extraction.text import TfidfVectorizer\n",
    "from yaspin import yaspin "
   ]
  },
  {
   "cell_type": "markdown",
   "id": "c2b04d37",
   "metadata": {},
   "source": [
    "#### Quick overview of the dataset we use for training the model"
   ]
  },
  {
   "cell_type": "code",
   "execution_count": 21,
   "id": "10b68b29",
   "metadata": {},
   "outputs": [
    {
     "data": {
      "text/html": [
       "<div>\n",
       "<style scoped>\n",
       "    .dataframe tbody tr th:only-of-type {\n",
       "        vertical-align: middle;\n",
       "    }\n",
       "\n",
       "    .dataframe tbody tr th {\n",
       "        vertical-align: top;\n",
       "    }\n",
       "\n",
       "    .dataframe thead th {\n",
       "        text-align: right;\n",
       "    }\n",
       "</style>\n",
       "<table border=\"1\" class=\"dataframe\">\n",
       "  <thead>\n",
       "    <tr style=\"text-align: right;\">\n",
       "      <th></th>\n",
       "      <th>sentence</th>\n",
       "      <th>lang</th>\n",
       "    </tr>\n",
       "  </thead>\n",
       "  <tbody>\n",
       "    <tr>\n",
       "      <th>0</th>\n",
       "      <td>mu ne dina fi jaar buy dellu</td>\n",
       "      <td>wolof</td>\n",
       "    </tr>\n",
       "    <tr>\n",
       "      <th>1</th>\n",
       "      <td>mimi ningekuwa naipenda yanga si ningekuwa nac...</td>\n",
       "      <td>swahili</td>\n",
       "    </tr>\n",
       "    <tr>\n",
       "      <th>2</th>\n",
       "      <td>pencil skirts are nice until you have to go up...</td>\n",
       "      <td>english</td>\n",
       "    </tr>\n",
       "    <tr>\n",
       "      <th>3</th>\n",
       "      <td>kingsport  tn transportation job rolloff drive...</td>\n",
       "      <td>english</td>\n",
       "    </tr>\n",
       "    <tr>\n",
       "      <th>4</th>\n",
       "      <td>daan sa doole</td>\n",
       "      <td>wolof</td>\n",
       "    </tr>\n",
       "    <tr>\n",
       "      <th>...</th>\n",
       "      <td>...</td>\n",
       "      <td>...</td>\n",
       "    </tr>\n",
       "    <tr>\n",
       "      <th>2023</th>\n",
       "      <td>just ok inner plastic curtain keeps falling of...</td>\n",
       "      <td>english</td>\n",
       "    </tr>\n",
       "    <tr>\n",
       "      <th>49318</th>\n",
       "      <td>great for daily devotions</td>\n",
       "      <td>english</td>\n",
       "    </tr>\n",
       "    <tr>\n",
       "      <th>46698</th>\n",
       "      <td>this is not the jason shampoo with msm i looke...</td>\n",
       "      <td>english</td>\n",
       "    </tr>\n",
       "    <tr>\n",
       "      <th>33705</th>\n",
       "      <td>it charges extremely slowly for some reason al...</td>\n",
       "      <td>english</td>\n",
       "    </tr>\n",
       "    <tr>\n",
       "      <th>42648</th>\n",
       "      <td>came quickly and are working great i thought i...</td>\n",
       "      <td>english</td>\n",
       "    </tr>\n",
       "  </tbody>\n",
       "</table>\n",
       "<p>83124 rows × 2 columns</p>\n",
       "</div>"
      ],
      "text/plain": [
       "                                                sentence     lang\n",
       "0                           mu ne dina fi jaar buy dellu    wolof\n",
       "1      mimi ningekuwa naipenda yanga si ningekuwa nac...  swahili\n",
       "2      pencil skirts are nice until you have to go up...  english\n",
       "3      kingsport  tn transportation job rolloff drive...  english\n",
       "4                                          daan sa doole    wolof\n",
       "...                                                  ...      ...\n",
       "2023   just ok inner plastic curtain keeps falling of...  english\n",
       "49318                          great for daily devotions  english\n",
       "46698  this is not the jason shampoo with msm i looke...  english\n",
       "33705  it charges extremely slowly for some reason al...  english\n",
       "42648  came quickly and are working great i thought i...  english\n",
       "\n",
       "[83124 rows x 2 columns]"
      ]
     },
     "execution_count": 21,
     "metadata": {},
     "output_type": "execute_result"
    }
   ],
   "source": [
    "languages_file"
   ]
  },
  {
   "cell_type": "markdown",
   "id": "583faf3c",
   "metadata": {},
   "source": [
    "#### Data separation\n",
    "> Because we are going to export our model we are going to use 95% of the data on traing and the rest for the test, i've already tested the model on 20% of the data and still got good results."
   ]
  },
  {
   "cell_type": "code",
   "execution_count": 22,
   "id": "4877cce5",
   "metadata": {},
   "outputs": [],
   "source": [
    "# Separating the 95% data for training data and 10% for testing data\n",
    "X = languages_file.sentence\n",
    "y = languages_file.lang\n",
    "\n",
    "X_train, X_test, y_train, y_test = train_test_split(X, y, test_size=0.05, random_state=8888) "
   ]
  },
  {
   "cell_type": "markdown",
   "id": "38ec86cc",
   "metadata": {},
   "source": [
    "#### Feature Vectorizing"
   ]
  },
  {
   "cell_type": "code",
   "execution_count": 23,
   "id": "b424a9c9",
   "metadata": {},
   "outputs": [
    {
     "name": "stdout",
     "output_type": "stream",
     "text": [
      "No. of feature_words:  18121\n"
     ]
    },
    {
     "name": "stderr",
     "output_type": "stream",
     "text": [
      "C:\\Users\\SAAD\\anaconda3\\lib\\site-packages\\sklearn\\utils\\deprecation.py:87: FutureWarning: Function get_feature_names is deprecated; get_feature_names is deprecated in 1.0 and will be removed in 1.2. Please use get_feature_names_out instead.\n",
      "  warnings.warn(msg, category=FutureWarning)\n"
     ]
    }
   ],
   "source": [
    "# Fit the TF-IDF Vectorizer :\n",
    "vectorizer = TfidfVectorizer(min_df = 5,\n",
    "                             max_df = 0.8,\n",
    "                             sublinear_tf = True,\n",
    "                             use_idf = True)\n",
    "\n",
    "train_vectors = vectorizer.fit_transform(X_train)\n",
    "test_vectors = vectorizer.transform(X_test)\n",
    "\n",
    "print('No. of feature_words: ', len(vectorizer.get_feature_names()))"
   ]
  },
  {
   "cell_type": "markdown",
   "id": "69d0230a",
   "metadata": {},
   "source": [
    "#### Performing classification"
   ]
  },
  {
   "cell_type": "code",
   "execution_count": 24,
   "id": "b8cc699b",
   "metadata": {},
   "outputs": [
    {
     "name": "stdout",
     "output_type": "stream",
     "text": [
      "\u001b[K0m elapsed time (0:07:08.91)\u001b[K\u001b[?25h\u001b[K\u001b[K\u001b[K\u001b[K\u001b[K\u001b[K\u001b[K\u001b[K\u001b[K\u001b[K\u001b[K\u001b[K\u001b[K\u001b[K\u001b[K\u001b[K\u001b[K\u001b[K\u001b[K\u001b[K\u001b[K\u001b[K\u001b[K\u001b[K\u001b[K\u001b[K\u001b[K\u001b[K\u001b[K\u001b[K\u001b[K\u001b[K\u001b[K\u001b[K\u001b[K\u001b[K\u001b[K\u001b[K\u001b[K\u001b[K\u001b[K\u001b[K\u001b[K\u001b[K\u001b[K\u001b[K\u001b[K\u001b[K\u001b[K\u001b[K\u001b[K\u001b[K\u001b[K\u001b[K\u001b[K\u001b[K\u001b[K\u001b[K\u001b[K\u001b[K\u001b[K\u001b[K\u001b[K\u001b[K\u001b[K\u001b[K\u001b[K\u001b[K\u001b[K\u001b[K\u001b[K\u001b[K\u001b[K\u001b[K\u001b[K\u001b[K\u001b[K\u001b[K\u001b[K\u001b[K\u001b[K\u001b[K\u001b[K\u001b[K\u001b[K\u001b[K\u001b[K\u001b[K\u001b[K\u001b[K\u001b[K\u001b[K\u001b[K\u001b[K\u001b[K\u001b[K\u001b[K\u001b[K\u001b[K\u001b[K\u001b[K\u001b[K\u001b[K\u001b[K\u001b[K\u001b[K\u001b[K\u001b[K\u001b[K\u001b[K\u001b[K\u001b[K\u001b[K\u001b[K\u001b[K\u001b[K\u001b[K\u001b[K\u001b[K\u001b[K\u001b[K\u001b[K\u001b[K\u001b[K"
     ]
    }
   ],
   "source": [
    "# Perform classification with SVM, kernel=linear\n",
    "with yaspin(text=\"elapsed time\", timer=True) as sp:\n",
    "    classifier_linear = svm.SVC(kernel='linear', probability=True)\n",
    "    t0 = time.time()\n",
    "    classifier_linear.fit(train_vectors, y_train)\n",
    "    t1 = time.time()\n",
    "    prediction_linear = classifier_linear.predict(test_vectors)\n",
    "    t2 = time.time()"
   ]
  },
  {
   "cell_type": "code",
   "execution_count": 25,
   "id": "524985e6",
   "metadata": {},
   "outputs": [
    {
     "name": "stdout",
     "output_type": "stream",
     "text": [
      "Training time: 426.20s; Prediction time: 2.72s\n"
     ]
    }
   ],
   "source": [
    "time_linear_train = t1-t0 # The time needed to train our linear classifier\n",
    "time_linear_predict = t2-t1 # The time needed to predict with our trained linear classifier\n",
    "\n",
    "print(\"Training time: {:.2f}s; Prediction time: {:.2f}s\".format(time_linear_train, time_linear_predict))"
   ]
  },
  {
   "cell_type": "markdown",
   "id": "f3251a1c",
   "metadata": {},
   "source": [
    "#### Model testing "
   ]
  },
  {
   "cell_type": "code",
   "execution_count": 26,
   "id": "8dffb077",
   "metadata": {},
   "outputs": [],
   "source": [
    "import random as rd"
   ]
  },
  {
   "cell_type": "code",
   "execution_count": 27,
   "id": "aa6a09e9",
   "metadata": {},
   "outputs": [
    {
     "name": "stdout",
     "output_type": "stream",
     "text": [
      "wolof precision: 99.56%\n",
      "french precision: 99.71%\n",
      "swahili precision: 100.00%\n",
      "english precision: 96.83%\n",
      "arabic precision: 93.63%\n",
      "dyula precision: 100.00%\n",
      "\n",
      "\n",
      "wolof:  {'precision': 0.9956011730205279, 'recall': 0.9883551673944687, 'f1-score': 0.9919649379108838, 'support': 687}\n",
      "french:  {'precision': 0.9971264367816092, 'recall': 0.9788434414668548, 'f1-score': 0.9879003558718862, 'support': 709}\n",
      "swahili:  {'precision': 1.0, 'recall': 0.9849108367626886, 'f1-score': 0.9923980649619903, 'support': 729}\n",
      "english:  {'precision': 0.9683195592286501, 'recall': 0.9736842105263158, 'f1-score': 0.9709944751381215, 'support': 722}\n",
      "arabic:  {'precision': 0.9363354037267081, 'recall': 0.9741518578352181, 'f1-score': 0.9548693586698337, 'support': 619}\n",
      "dyula:  {'precision': 1.0, 'recall': 1.0, 'f1-score': 1.0, 'support': 691}\n"
     ]
    }
   ],
   "source": [
    "report = classification_report(y_test, prediction_linear, output_dict=True)\n",
    "\n",
    "print('wolof precision: {:.2f}%'.format(report['wolof'][\"precision\"]*100))\n",
    "print('french precision: {:.2f}%'.format(report['french'][\"precision\"]*100))\n",
    "print('swahili precision: {:.2f}%'.format(report['swahili'][\"precision\"]*100))\n",
    "print('english precision: {:.2f}%'.format(report['english'][\"precision\"]*100))\n",
    "print('arabic precision: {:.2f}%'.format(report['arabic'][\"precision\"]*100))\n",
    "print('dyula precision: {:.2f}%'.format(report['dyula'][\"precision\"]*100))\n",
    "\n",
    "print(\"\\n\")\n",
    "print('wolof: ', report['wolof'])\n",
    "print('french: ', report['french'])\n",
    "print('swahili: ', report['swahili'])\n",
    "print('english: ', report['english'])\n",
    "print('arabic: ', report['arabic'])\n",
    "print('dyula: ', report['dyula'])"
   ]
  },
  {
   "cell_type": "code",
   "execution_count": 28,
   "id": "37267988",
   "metadata": {},
   "outputs": [],
   "source": [
    "# Defining a function to simplify the prediction process\n",
    "def predict_language(text):\n",
    "    serie = pd.Series(text)\n",
    "    vector = vectorizer.transform(serie)\n",
    "    return classifier_linear.predict(vector)[0]"
   ]
  },
  {
   "cell_type": "code",
   "execution_count": 29,
   "id": "3534b914",
   "metadata": {},
   "outputs": [
    {
     "name": "stdout",
     "output_type": "stream",
     "text": [
      "mu dem ci ñaari xale yu góor yi ni leen ñaari xale yu góor yi du ngéen ma fetalal yëkku kuuy yëkku kuuy dee ma luqi bët bi diw ko asamaan asamaan taw wereyaan sax xar lekk ko dee mool ngemboo der ba dindil ma saa wujj wi ci biir déeg bi ba ma woli soq sa déegu jonn\n",
      "\n",
      " -> LABELED LANGUAGE: wolof\n",
      "-> PREDICTED LANGUAGE: wolof\n"
     ]
    }
   ],
   "source": [
    "random_number = rd.randint(0, len(languages_file)+1) # Picking a random sentence from the dataset\n",
    "text = languages_file.sentence[random_number]\n",
    "language = languages_file.lang[random_number]\n",
    "\n",
    "print(text)\n",
    "print(\"\\n -> LABELED LANGUAGE: \" + language)\n",
    "print(\"-> PREDICTED LANGUAGE: \" + predict_language(text))"
   ]
  },
  {
   "cell_type": "markdown",
   "id": "7014b628",
   "metadata": {},
   "source": [
    "#### Saving the model"
   ]
  },
  {
   "cell_type": "code",
   "execution_count": 30,
   "id": "38f0b3c2",
   "metadata": {},
   "outputs": [],
   "source": [
    "import pickle\n",
    "\n",
    "pickle.dump(classifier_linear, open('model/SVM_model_language_identifier.pkl', 'wb')) # saving the model\n",
    "with open('model/SVM_vectorizer.pk', 'wb') as fin: # saving the vectorizer\n",
    "    pickle.dump(vectorizer, fin)\n",
    "exit()"
   ]
  },
  {
   "cell_type": "markdown",
   "id": "e0af3c78",
   "metadata": {},
   "source": [
    "#### Loading the model"
   ]
  },
  {
   "cell_type": "markdown",
   "id": "f7332e15",
   "metadata": {},
   "source": [
    "##### meth 1\n",
    "> via model and vectorizer import"
   ]
  },
  {
   "cell_type": "code",
   "execution_count": 31,
   "id": "9465bda1",
   "metadata": {},
   "outputs": [],
   "source": [
    "import pickle\n",
    "import pandas as pd\n",
    "\n",
    "SVM_model = pickle.load(open('model/SVM_model_language_identifier.pkl', 'rb'))\n",
    "SVM_vectorizer = pickle.load(open(\"model/SVM_vectorizer.pk\",\"rb\"))\n",
    "\n",
    "\n",
    "def predict_language(text):\n",
    "    serie = pd.Series(text)\n",
    "    vector = SVM_vectorizer.transform(serie)\n",
    "    return str(SVM_model.predict(vector)[0])"
   ]
  },
  {
   "cell_type": "code",
   "execution_count": 32,
   "id": "68aba391",
   "metadata": {},
   "outputs": [
    {
     "name": "stdout",
     "output_type": "stream",
     "text": [
      "wolof\n"
     ]
    }
   ],
   "source": [
    "text = \"Na nga def ?\" \n",
    "print(predict_language(text))"
   ]
  },
  {
   "cell_type": "markdown",
   "id": "d3b6a067",
   "metadata": {},
   "source": [
    "##### meth 2\n",
    "> by calling a python script that does all the work for us"
   ]
  },
  {
   "cell_type": "code",
   "execution_count": 33,
   "id": "52fb59d0",
   "metadata": {
    "scrolled": true
   },
   "outputs": [
    {
     "name": "stdout",
     "output_type": "stream",
     "text": [
      "english\n"
     ]
    }
   ],
   "source": [
    "text = \"I'm not really into the birthday thing honestly but I admit this was a really chill\"\n",
    "var = !python model/language_identifier.py $text \n",
    "print(var[-1])"
   ]
  },
  {
   "cell_type": "markdown",
   "id": "402ca1f8",
   "metadata": {},
   "source": [
    "> - 🙌 Notebook made by [@labriji_saad](https://github.com/labrijisaad)\n",
    "> - 🔗 Linledin [@labriji_saad](https://www.linkedin.com/in/labrijisaad/)"
   ]
  }
 ],
 "metadata": {
  "kernelspec": {
   "display_name": "Python 3 (ipykernel)",
   "language": "python",
   "name": "python3"
  },
  "language_info": {
   "codemirror_mode": {
    "name": "ipython",
    "version": 3
   },
   "file_extension": ".py",
   "mimetype": "text/x-python",
   "name": "python",
   "nbconvert_exporter": "python",
   "pygments_lexer": "ipython3",
   "version": "3.9.7"
  }
 },
 "nbformat": 4,
 "nbformat_minor": 5
}
